{
 "cells": [
  {
   "cell_type": "markdown",
   "id": "developing-assignment",
   "metadata": {},
   "source": [
    "## Random Forest - Regression"
   ]
  },
  {
   "cell_type": "code",
   "execution_count": 1,
   "id": "threaded-frank",
   "metadata": {},
   "outputs": [],
   "source": [
    "import pandas as pd\n",
    "import numpy as np\n",
    "import matplotlib.pyplot as plt\n",
    "import seaborn as sns\n",
    "plt.rcParams[\"figure.figsize\"] = (9,5)\n",
    "import warnings\n",
    "warnings.filterwarnings(\"ignore\")\n",
    "pd.set_option(\"display.max_rows\", 20)\n",
    "pd.set_option(\"display.max_columns\", 20)\n",
    "pd.set_option(\"display.width\", 20)\n",
    "pd.set_option(\"display.float_format\", lambda x: \"%.3f\" % x)"
   ]
  },
  {
   "cell_type": "code",
   "execution_count": 2,
   "id": "resident-berkeley",
   "metadata": {},
   "outputs": [
    {
     "data": {
      "text/html": [
       "<div>\n",
       "<style scoped>\n",
       "    .dataframe tbody tr th:only-of-type {\n",
       "        vertical-align: middle;\n",
       "    }\n",
       "\n",
       "    .dataframe tbody tr th {\n",
       "        vertical-align: top;\n",
       "    }\n",
       "\n",
       "    .dataframe thead th {\n",
       "        text-align: right;\n",
       "    }\n",
       "</style>\n",
       "<table border=\"1\" class=\"dataframe\">\n",
       "  <thead>\n",
       "    <tr style=\"text-align: right;\">\n",
       "      <th></th>\n",
       "      <th>Car_Name</th>\n",
       "      <th>Year</th>\n",
       "      <th>Selling_Price</th>\n",
       "      <th>Present_Price</th>\n",
       "      <th>Kms_Driven</th>\n",
       "      <th>Fuel_Type</th>\n",
       "      <th>Seller_Type</th>\n",
       "      <th>Transmission</th>\n",
       "      <th>Owner</th>\n",
       "    </tr>\n",
       "  </thead>\n",
       "  <tbody>\n",
       "    <tr>\n",
       "      <th>0</th>\n",
       "      <td>ritz</td>\n",
       "      <td>2014</td>\n",
       "      <td>3.350</td>\n",
       "      <td>5.590</td>\n",
       "      <td>27000</td>\n",
       "      <td>Petrol</td>\n",
       "      <td>Dealer</td>\n",
       "      <td>Manual</td>\n",
       "      <td>0</td>\n",
       "    </tr>\n",
       "    <tr>\n",
       "      <th>1</th>\n",
       "      <td>sx4</td>\n",
       "      <td>2013</td>\n",
       "      <td>4.750</td>\n",
       "      <td>9.540</td>\n",
       "      <td>43000</td>\n",
       "      <td>Diesel</td>\n",
       "      <td>Dealer</td>\n",
       "      <td>Manual</td>\n",
       "      <td>0</td>\n",
       "    </tr>\n",
       "    <tr>\n",
       "      <th>2</th>\n",
       "      <td>ciaz</td>\n",
       "      <td>2017</td>\n",
       "      <td>7.250</td>\n",
       "      <td>9.850</td>\n",
       "      <td>6900</td>\n",
       "      <td>Petrol</td>\n",
       "      <td>Dealer</td>\n",
       "      <td>Manual</td>\n",
       "      <td>0</td>\n",
       "    </tr>\n",
       "    <tr>\n",
       "      <th>3</th>\n",
       "      <td>wagon r</td>\n",
       "      <td>2011</td>\n",
       "      <td>2.850</td>\n",
       "      <td>4.150</td>\n",
       "      <td>5200</td>\n",
       "      <td>Petrol</td>\n",
       "      <td>Dealer</td>\n",
       "      <td>Manual</td>\n",
       "      <td>0</td>\n",
       "    </tr>\n",
       "    <tr>\n",
       "      <th>4</th>\n",
       "      <td>swift</td>\n",
       "      <td>2014</td>\n",
       "      <td>4.600</td>\n",
       "      <td>6.870</td>\n",
       "      <td>42450</td>\n",
       "      <td>Diesel</td>\n",
       "      <td>Dealer</td>\n",
       "      <td>Manual</td>\n",
       "      <td>0</td>\n",
       "    </tr>\n",
       "  </tbody>\n",
       "</table>\n",
       "</div>"
      ],
      "text/plain": [
       "  Car_Name  Year  \\\n",
       "0     ritz  2014   \n",
       "1      sx4  2013   \n",
       "2     ciaz  2017   \n",
       "3  wagon r  2011   \n",
       "4    swift  2014   \n",
       "\n",
       "   Selling_Price  \\\n",
       "0          3.350   \n",
       "1          4.750   \n",
       "2          7.250   \n",
       "3          2.850   \n",
       "4          4.600   \n",
       "\n",
       "   Present_Price  \\\n",
       "0          5.590   \n",
       "1          9.540   \n",
       "2          9.850   \n",
       "3          4.150   \n",
       "4          6.870   \n",
       "\n",
       "   Kms_Driven  \\\n",
       "0       27000   \n",
       "1       43000   \n",
       "2        6900   \n",
       "3        5200   \n",
       "4       42450   \n",
       "\n",
       "  Fuel_Type  \\\n",
       "0    Petrol   \n",
       "1    Diesel   \n",
       "2    Petrol   \n",
       "3    Petrol   \n",
       "4    Diesel   \n",
       "\n",
       "  Seller_Type  \\\n",
       "0      Dealer   \n",
       "1      Dealer   \n",
       "2      Dealer   \n",
       "3      Dealer   \n",
       "4      Dealer   \n",
       "\n",
       "  Transmission  \\\n",
       "0       Manual   \n",
       "1       Manual   \n",
       "2       Manual   \n",
       "3       Manual   \n",
       "4       Manual   \n",
       "\n",
       "   Owner  \n",
       "0      0  \n",
       "1      0  \n",
       "2      0  \n",
       "3      0  \n",
       "4      0  "
      ]
     },
     "execution_count": 2,
     "metadata": {},
     "output_type": "execute_result"
    }
   ],
   "source": [
    "df=pd.read_csv(\"/Users/onurhanaydin/Desktop/Data Science/Dersler/Machine Learning/car_dataset.csv\")\n",
    "df.head()"
   ]
  },
  {
   "cell_type": "code",
   "execution_count": 3,
   "id": "improved-destruction",
   "metadata": {},
   "outputs": [
    {
     "data": {
      "text/plain": [
       "(301, 9)"
      ]
     },
     "execution_count": 3,
     "metadata": {},
     "output_type": "execute_result"
    }
   ],
   "source": [
    "df.shape"
   ]
  },
  {
   "cell_type": "code",
   "execution_count": 4,
   "id": "available-berkeley",
   "metadata": {},
   "outputs": [
    {
     "name": "stdout",
     "output_type": "stream",
     "text": [
      "<class 'pandas.core.frame.DataFrame'>\n",
      "RangeIndex: 301 entries, 0 to 300\n",
      "Data columns (total 9 columns):\n",
      " #   Column         Non-Null Count  Dtype  \n",
      "---  ------         --------------  -----  \n",
      " 0   Car_Name       301 non-null    object \n",
      " 1   Year           301 non-null    int64  \n",
      " 2   Selling_Price  301 non-null    float64\n",
      " 3   Present_Price  301 non-null    float64\n",
      " 4   Kms_Driven     301 non-null    int64  \n",
      " 5   Fuel_Type      301 non-null    object \n",
      " 6   Seller_Type    301 non-null    object \n",
      " 7   Transmission   301 non-null    object \n",
      " 8   Owner          301 non-null    int64  \n",
      "dtypes: float64(2), int64(3), object(4)\n",
      "memory usage: 21.3+ KB\n"
     ]
    }
   ],
   "source": [
    "df.info()"
   ]
  },
  {
   "cell_type": "code",
   "execution_count": 6,
   "id": "extended-maximum",
   "metadata": {},
   "outputs": [
    {
     "data": {
      "text/plain": [
       "Car_Name         0\n",
       "Year             0\n",
       "Selling_Price    0\n",
       "Present_Price    0\n",
       "Kms_Driven       0\n",
       "Fuel_Type        0\n",
       "Seller_Type      0\n",
       "Transmission     0\n",
       "Owner            0\n",
       "dtype: int64"
      ]
     },
     "execution_count": 6,
     "metadata": {},
     "output_type": "execute_result"
    }
   ],
   "source": [
    "df.isnull().sum()"
   ]
  },
  {
   "cell_type": "code",
   "execution_count": 7,
   "id": "iraqi-invitation",
   "metadata": {},
   "outputs": [
    {
     "data": {
      "text/html": [
       "<div>\n",
       "<style scoped>\n",
       "    .dataframe tbody tr th:only-of-type {\n",
       "        vertical-align: middle;\n",
       "    }\n",
       "\n",
       "    .dataframe tbody tr th {\n",
       "        vertical-align: top;\n",
       "    }\n",
       "\n",
       "    .dataframe thead th {\n",
       "        text-align: right;\n",
       "    }\n",
       "</style>\n",
       "<table border=\"1\" class=\"dataframe\">\n",
       "  <thead>\n",
       "    <tr style=\"text-align: right;\">\n",
       "      <th></th>\n",
       "      <th>count</th>\n",
       "      <th>mean</th>\n",
       "      <th>std</th>\n",
       "      <th>min</th>\n",
       "      <th>25%</th>\n",
       "      <th>50%</th>\n",
       "      <th>75%</th>\n",
       "      <th>max</th>\n",
       "    </tr>\n",
       "  </thead>\n",
       "  <tbody>\n",
       "    <tr>\n",
       "      <th>Year</th>\n",
       "      <td>301.000</td>\n",
       "      <td>2013.628</td>\n",
       "      <td>2.892</td>\n",
       "      <td>2003.000</td>\n",
       "      <td>2012.000</td>\n",
       "      <td>2014.000</td>\n",
       "      <td>2016.000</td>\n",
       "      <td>2018.000</td>\n",
       "    </tr>\n",
       "    <tr>\n",
       "      <th>Selling_Price</th>\n",
       "      <td>301.000</td>\n",
       "      <td>4.661</td>\n",
       "      <td>5.083</td>\n",
       "      <td>0.100</td>\n",
       "      <td>0.900</td>\n",
       "      <td>3.600</td>\n",
       "      <td>6.000</td>\n",
       "      <td>35.000</td>\n",
       "    </tr>\n",
       "    <tr>\n",
       "      <th>Present_Price</th>\n",
       "      <td>301.000</td>\n",
       "      <td>7.628</td>\n",
       "      <td>8.644</td>\n",
       "      <td>0.320</td>\n",
       "      <td>1.200</td>\n",
       "      <td>6.400</td>\n",
       "      <td>9.900</td>\n",
       "      <td>92.600</td>\n",
       "    </tr>\n",
       "    <tr>\n",
       "      <th>Kms_Driven</th>\n",
       "      <td>301.000</td>\n",
       "      <td>36947.206</td>\n",
       "      <td>38886.884</td>\n",
       "      <td>500.000</td>\n",
       "      <td>15000.000</td>\n",
       "      <td>32000.000</td>\n",
       "      <td>48767.000</td>\n",
       "      <td>500000.000</td>\n",
       "    </tr>\n",
       "    <tr>\n",
       "      <th>Owner</th>\n",
       "      <td>301.000</td>\n",
       "      <td>0.043</td>\n",
       "      <td>0.248</td>\n",
       "      <td>0.000</td>\n",
       "      <td>0.000</td>\n",
       "      <td>0.000</td>\n",
       "      <td>0.000</td>\n",
       "      <td>3.000</td>\n",
       "    </tr>\n",
       "  </tbody>\n",
       "</table>\n",
       "</div>"
      ],
      "text/plain": [
       "                count  \\\n",
       "Year          301.000   \n",
       "Selling_Price 301.000   \n",
       "Present_Price 301.000   \n",
       "Kms_Driven    301.000   \n",
       "Owner         301.000   \n",
       "\n",
       "                   mean  \\\n",
       "Year           2013.628   \n",
       "Selling_Price     4.661   \n",
       "Present_Price     7.628   \n",
       "Kms_Driven    36947.206   \n",
       "Owner             0.043   \n",
       "\n",
       "                    std  \\\n",
       "Year              2.892   \n",
       "Selling_Price     5.083   \n",
       "Present_Price     8.644   \n",
       "Kms_Driven    38886.884   \n",
       "Owner             0.248   \n",
       "\n",
       "                   min  \\\n",
       "Year          2003.000   \n",
       "Selling_Price    0.100   \n",
       "Present_Price    0.320   \n",
       "Kms_Driven     500.000   \n",
       "Owner            0.000   \n",
       "\n",
       "                    25%  \\\n",
       "Year           2012.000   \n",
       "Selling_Price     0.900   \n",
       "Present_Price     1.200   \n",
       "Kms_Driven    15000.000   \n",
       "Owner             0.000   \n",
       "\n",
       "                    50%  \\\n",
       "Year           2014.000   \n",
       "Selling_Price     3.600   \n",
       "Present_Price     6.400   \n",
       "Kms_Driven    32000.000   \n",
       "Owner             0.000   \n",
       "\n",
       "                    75%  \\\n",
       "Year           2016.000   \n",
       "Selling_Price     6.000   \n",
       "Present_Price     9.900   \n",
       "Kms_Driven    48767.000   \n",
       "Owner             0.000   \n",
       "\n",
       "                     max  \n",
       "Year            2018.000  \n",
       "Selling_Price     35.000  \n",
       "Present_Price     92.600  \n",
       "Kms_Driven    500000.000  \n",
       "Owner              3.000  "
      ]
     },
     "execution_count": 7,
     "metadata": {},
     "output_type": "execute_result"
    }
   ],
   "source": [
    "df.describe().T"
   ]
  },
  {
   "cell_type": "code",
   "execution_count": 8,
   "id": "similar-metabolism",
   "metadata": {},
   "outputs": [
    {
     "data": {
      "image/png": "[encoded data removed]",
      "text/plain": [
       "<Figure size 648x360 with 2 Axes>"
      ]
     },
     "metadata": {
      "needs_background": "light"
     },
     "output_type": "display_data"
    }
   ],
   "source": [
    "sns.heatmap(df.corr(), annot=True)\n",
    "plt.show();"
   ]
  },
  {
   "cell_type": "code",
   "execution_count": 9,
   "id": "civil-footwear",
   "metadata": {},
   "outputs": [
    {
     "data": {
      "text/html": [
       "<div>\n",
       "<style scoped>\n",
       "    .dataframe tbody tr th:only-of-type {\n",
       "        vertical-align: middle;\n",
       "    }\n",
       "\n",
       "    .dataframe tbody tr th {\n",
       "        vertical-align: top;\n",
       "    }\n",
       "\n",
       "    .dataframe thead th {\n",
       "        text-align: right;\n",
       "    }\n",
       "</style>\n",
       "<table border=\"1\" class=\"dataframe\">\n",
       "  <thead>\n",
       "    <tr style=\"text-align: right;\">\n",
       "      <th></th>\n",
       "      <th>Car_Name</th>\n",
       "      <th>Year</th>\n",
       "      <th>Selling_Price</th>\n",
       "      <th>Present_Price</th>\n",
       "      <th>Kms_Driven</th>\n",
       "      <th>Fuel_Type</th>\n",
       "      <th>Seller_Type</th>\n",
       "      <th>Transmission</th>\n",
       "      <th>Owner</th>\n",
       "    </tr>\n",
       "  </thead>\n",
       "  <tbody>\n",
       "    <tr>\n",
       "      <th>0</th>\n",
       "      <td>ritz</td>\n",
       "      <td>2014</td>\n",
       "      <td>3.350</td>\n",
       "      <td>5.590</td>\n",
       "      <td>27000</td>\n",
       "      <td>Petrol</td>\n",
       "      <td>Dealer</td>\n",
       "      <td>Manual</td>\n",
       "      <td>0</td>\n",
       "    </tr>\n",
       "    <tr>\n",
       "      <th>1</th>\n",
       "      <td>sx4</td>\n",
       "      <td>2013</td>\n",
       "      <td>4.750</td>\n",
       "      <td>9.540</td>\n",
       "      <td>43000</td>\n",
       "      <td>Diesel</td>\n",
       "      <td>Dealer</td>\n",
       "      <td>Manual</td>\n",
       "      <td>0</td>\n",
       "    </tr>\n",
       "    <tr>\n",
       "      <th>2</th>\n",
       "      <td>ciaz</td>\n",
       "      <td>2017</td>\n",
       "      <td>7.250</td>\n",
       "      <td>9.850</td>\n",
       "      <td>6900</td>\n",
       "      <td>Petrol</td>\n",
       "      <td>Dealer</td>\n",
       "      <td>Manual</td>\n",
       "      <td>0</td>\n",
       "    </tr>\n",
       "    <tr>\n",
       "      <th>3</th>\n",
       "      <td>wagon r</td>\n",
       "      <td>2011</td>\n",
       "      <td>2.850</td>\n",
       "      <td>4.150</td>\n",
       "      <td>5200</td>\n",
       "      <td>Petrol</td>\n",
       "      <td>Dealer</td>\n",
       "      <td>Manual</td>\n",
       "      <td>0</td>\n",
       "    </tr>\n",
       "    <tr>\n",
       "      <th>4</th>\n",
       "      <td>swift</td>\n",
       "      <td>2014</td>\n",
       "      <td>4.600</td>\n",
       "      <td>6.870</td>\n",
       "      <td>42450</td>\n",
       "      <td>Diesel</td>\n",
       "      <td>Dealer</td>\n",
       "      <td>Manual</td>\n",
       "      <td>0</td>\n",
       "    </tr>\n",
       "  </tbody>\n",
       "</table>\n",
       "</div>"
      ],
      "text/plain": [
       "  Car_Name  Year  \\\n",
       "0     ritz  2014   \n",
       "1      sx4  2013   \n",
       "2     ciaz  2017   \n",
       "3  wagon r  2011   \n",
       "4    swift  2014   \n",
       "\n",
       "   Selling_Price  \\\n",
       "0          3.350   \n",
       "1          4.750   \n",
       "2          7.250   \n",
       "3          2.850   \n",
       "4          4.600   \n",
       "\n",
       "   Present_Price  \\\n",
       "0          5.590   \n",
       "1          9.540   \n",
       "2          9.850   \n",
       "3          4.150   \n",
       "4          6.870   \n",
       "\n",
       "   Kms_Driven  \\\n",
       "0       27000   \n",
       "1       43000   \n",
       "2        6900   \n",
       "3        5200   \n",
       "4       42450   \n",
       "\n",
       "  Fuel_Type  \\\n",
       "0    Petrol   \n",
       "1    Diesel   \n",
       "2    Petrol   \n",
       "3    Petrol   \n",
       "4    Diesel   \n",
       "\n",
       "  Seller_Type  \\\n",
       "0      Dealer   \n",
       "1      Dealer   \n",
       "2      Dealer   \n",
       "3      Dealer   \n",
       "4      Dealer   \n",
       "\n",
       "  Transmission  \\\n",
       "0       Manual   \n",
       "1       Manual   \n",
       "2       Manual   \n",
       "3       Manual   \n",
       "4       Manual   \n",
       "\n",
       "   Owner  \n",
       "0      0  \n",
       "1      0  \n",
       "2      0  \n",
       "3      0  \n",
       "4      0  "
      ]
     },
     "execution_count": 9,
     "metadata": {},
     "output_type": "execute_result"
    }
   ],
   "source": [
    "df.head()"
   ]
  },
  {
   "cell_type": "code",
   "execution_count": 10,
   "id": "attached-university",
   "metadata": {},
   "outputs": [],
   "source": [
    "df[\"vehicle_age\"]=2021-df.Year"
   ]
  },
  {
   "cell_type": "code",
   "execution_count": 11,
   "id": "invisible-partnership",
   "metadata": {},
   "outputs": [
    {
     "data": {
      "text/plain": [
       "city                        26\n",
       "corolla altis               16\n",
       "verna                       14\n",
       "fortuner                    11\n",
       "brio                        10\n",
       "                            ..\n",
       "Honda CB Trigger             1\n",
       "Yamaha FZ S                  1\n",
       "Bajaj Pulsar 135 LS          1\n",
       "Activa 4g                    1\n",
       "Bajaj Avenger Street 220     1\n",
       "Name: Car_Name, Length: 98, dtype: int64"
      ]
     },
     "execution_count": 11,
     "metadata": {},
     "output_type": "execute_result"
    }
   ],
   "source": [
    "df.Car_Name.value_counts()"
   ]
  },
  {
   "cell_type": "code",
   "execution_count": 12,
   "id": "private-retirement",
   "metadata": {},
   "outputs": [],
   "source": [
    "df.drop(columns=[\"Year\"], inplace=True)"
   ]
  },
  {
   "cell_type": "code",
   "execution_count": 13,
   "id": "endless-attendance",
   "metadata": {},
   "outputs": [
    {
     "data": {
      "text/html": [
       "<div>\n",
       "<style scoped>\n",
       "    .dataframe tbody tr th:only-of-type {\n",
       "        vertical-align: middle;\n",
       "    }\n",
       "\n",
       "    .dataframe tbody tr th {\n",
       "        vertical-align: top;\n",
       "    }\n",
       "\n",
       "    .dataframe thead th {\n",
       "        text-align: right;\n",
       "    }\n",
       "</style>\n",
       "<table border=\"1\" class=\"dataframe\">\n",
       "  <thead>\n",
       "    <tr style=\"text-align: right;\">\n",
       "      <th></th>\n",
       "      <th>Car_Name</th>\n",
       "      <th>Selling_Price</th>\n",
       "      <th>Present_Price</th>\n",
       "      <th>Kms_Driven</th>\n",
       "      <th>Fuel_Type</th>\n",
       "      <th>Seller_Type</th>\n",
       "      <th>Transmission</th>\n",
       "      <th>Owner</th>\n",
       "      <th>vehicle_age</th>\n",
       "    </tr>\n",
       "  </thead>\n",
       "  <tbody>\n",
       "    <tr>\n",
       "      <th>0</th>\n",
       "      <td>ritz</td>\n",
       "      <td>3.350</td>\n",
       "      <td>5.590</td>\n",
       "      <td>27000</td>\n",
       "      <td>Petrol</td>\n",
       "      <td>Dealer</td>\n",
       "      <td>Manual</td>\n",
       "      <td>0</td>\n",
       "      <td>7</td>\n",
       "    </tr>\n",
       "    <tr>\n",
       "      <th>1</th>\n",
       "      <td>sx4</td>\n",
       "      <td>4.750</td>\n",
       "      <td>9.540</td>\n",
       "      <td>43000</td>\n",
       "      <td>Diesel</td>\n",
       "      <td>Dealer</td>\n",
       "      <td>Manual</td>\n",
       "      <td>0</td>\n",
       "      <td>8</td>\n",
       "    </tr>\n",
       "    <tr>\n",
       "      <th>2</th>\n",
       "      <td>ciaz</td>\n",
       "      <td>7.250</td>\n",
       "      <td>9.850</td>\n",
       "      <td>6900</td>\n",
       "      <td>Petrol</td>\n",
       "      <td>Dealer</td>\n",
       "      <td>Manual</td>\n",
       "      <td>0</td>\n",
       "      <td>4</td>\n",
       "    </tr>\n",
       "    <tr>\n",
       "      <th>3</th>\n",
       "      <td>wagon r</td>\n",
       "      <td>2.850</td>\n",
       "      <td>4.150</td>\n",
       "      <td>5200</td>\n",
       "      <td>Petrol</td>\n",
       "      <td>Dealer</td>\n",
       "      <td>Manual</td>\n",
       "      <td>0</td>\n",
       "      <td>10</td>\n",
       "    </tr>\n",
       "    <tr>\n",
       "      <th>4</th>\n",
       "      <td>swift</td>\n",
       "      <td>4.600</td>\n",
       "      <td>6.870</td>\n",
       "      <td>42450</td>\n",
       "      <td>Diesel</td>\n",
       "      <td>Dealer</td>\n",
       "      <td>Manual</td>\n",
       "      <td>0</td>\n",
       "      <td>7</td>\n",
       "    </tr>\n",
       "  </tbody>\n",
       "</table>\n",
       "</div>"
      ],
      "text/plain": [
       "  Car_Name  \\\n",
       "0     ritz   \n",
       "1      sx4   \n",
       "2     ciaz   \n",
       "3  wagon r   \n",
       "4    swift   \n",
       "\n",
       "   Selling_Price  \\\n",
       "0          3.350   \n",
       "1          4.750   \n",
       "2          7.250   \n",
       "3          2.850   \n",
       "4          4.600   \n",
       "\n",
       "   Present_Price  \\\n",
       "0          5.590   \n",
       "1          9.540   \n",
       "2          9.850   \n",
       "3          4.150   \n",
       "4          6.870   \n",
       "\n",
       "   Kms_Driven  \\\n",
       "0       27000   \n",
       "1       43000   \n",
       "2        6900   \n",
       "3        5200   \n",
       "4       42450   \n",
       "\n",
       "  Fuel_Type  \\\n",
       "0    Petrol   \n",
       "1    Diesel   \n",
       "2    Petrol   \n",
       "3    Petrol   \n",
       "4    Diesel   \n",
       "\n",
       "  Seller_Type  \\\n",
       "0      Dealer   \n",
       "1      Dealer   \n",
       "2      Dealer   \n",
       "3      Dealer   \n",
       "4      Dealer   \n",
       "\n",
       "  Transmission  \\\n",
       "0       Manual   \n",
       "1       Manual   \n",
       "2       Manual   \n",
       "3       Manual   \n",
       "4       Manual   \n",
       "\n",
       "   Owner  \\\n",
       "0      0   \n",
       "1      0   \n",
       "2      0   \n",
       "3      0   \n",
       "4      0   \n",
       "\n",
       "   vehicle_age  \n",
       "0            7  \n",
       "1            8  \n",
       "2            4  \n",
       "3           10  \n",
       "4            7  "
      ]
     },
     "execution_count": 13,
     "metadata": {},
     "output_type": "execute_result"
    }
   ],
   "source": [
    "df.head()"
   ]
  },
  {
   "cell_type": "markdown",
   "id": "swiss-respondent",
   "metadata": {},
   "source": [
    "## Train test split"
   ]
  },
  {
   "cell_type": "code",
   "execution_count": 14,
   "id": "e1e75db1",
   "metadata": {},
   "outputs": [],
   "source": [
    "from sklearn.preprocessing import OrdinalEncoder"
   ]
  },
  {
   "cell_type": "code",
   "execution_count": 15,
   "id": "every-turtle",
   "metadata": {},
   "outputs": [],
   "source": [
    "X=df.drop(\"Selling_Price\", axis=1)\n",
    "y=df.Selling_Price"
   ]
  },
  {
   "cell_type": "code",
   "execution_count": 16,
   "id": "696d311d",
   "metadata": {},
   "outputs": [
    {
     "data": {
      "text/plain": [
       "Index(['Car_Name',\n",
       "       'Fuel_Type',\n",
       "       'Seller_Type',\n",
       "       'Transmission'],\n",
       "      dtype='object')"
      ]
     },
     "execution_count": 16,
     "metadata": {},
     "output_type": "execute_result"
    }
   ],
   "source": [
    "cat = X.select_dtypes(\"object\").columns\n",
    "cat"
   ]
  },
  {
   "cell_type": "code",
   "execution_count": 17,
   "id": "99a8ffd6",
   "metadata": {},
   "outputs": [
    {
     "data": {
      "text/html": [
       "<div>\n",
       "<style scoped>\n",
       "    .dataframe tbody tr th:only-of-type {\n",
       "        vertical-align: middle;\n",
       "    }\n",
       "\n",
       "    .dataframe tbody tr th {\n",
       "        vertical-align: top;\n",
       "    }\n",
       "\n",
       "    .dataframe thead th {\n",
       "        text-align: right;\n",
       "    }\n",
       "</style>\n",
       "<table border=\"1\" class=\"dataframe\">\n",
       "  <thead>\n",
       "    <tr style=\"text-align: right;\">\n",
       "      <th></th>\n",
       "      <th>Car_Name</th>\n",
       "      <th>Fuel_Type</th>\n",
       "      <th>Seller_Type</th>\n",
       "      <th>Transmission</th>\n",
       "    </tr>\n",
       "  </thead>\n",
       "  <tbody>\n",
       "    <tr>\n",
       "      <th>0</th>\n",
       "      <td>ritz</td>\n",
       "      <td>Petrol</td>\n",
       "      <td>Dealer</td>\n",
       "      <td>Manual</td>\n",
       "    </tr>\n",
       "    <tr>\n",
       "      <th>1</th>\n",
       "      <td>sx4</td>\n",
       "      <td>Diesel</td>\n",
       "      <td>Dealer</td>\n",
       "      <td>Manual</td>\n",
       "    </tr>\n",
       "    <tr>\n",
       "      <th>2</th>\n",
       "      <td>ciaz</td>\n",
       "      <td>Petrol</td>\n",
       "      <td>Dealer</td>\n",
       "      <td>Manual</td>\n",
       "    </tr>\n",
       "    <tr>\n",
       "      <th>3</th>\n",
       "      <td>wagon r</td>\n",
       "      <td>Petrol</td>\n",
       "      <td>Dealer</td>\n",
       "      <td>Manual</td>\n",
       "    </tr>\n",
       "    <tr>\n",
       "      <th>4</th>\n",
       "      <td>swift</td>\n",
       "      <td>Diesel</td>\n",
       "      <td>Dealer</td>\n",
       "      <td>Manual</td>\n",
       "    </tr>\n",
       "  </tbody>\n",
       "</table>\n",
       "</div>"
      ],
      "text/plain": [
       "  Car_Name  \\\n",
       "0     ritz   \n",
       "1      sx4   \n",
       "2     ciaz   \n",
       "3  wagon r   \n",
       "4    swift   \n",
       "\n",
       "  Fuel_Type  \\\n",
       "0    Petrol   \n",
       "1    Diesel   \n",
       "2    Petrol   \n",
       "3    Petrol   \n",
       "4    Diesel   \n",
       "\n",
       "  Seller_Type  \\\n",
       "0      Dealer   \n",
       "1      Dealer   \n",
       "2      Dealer   \n",
       "3      Dealer   \n",
       "4      Dealer   \n",
       "\n",
       "  Transmission  \n",
       "0       Manual  \n",
       "1       Manual  \n",
       "2       Manual  \n",
       "3       Manual  \n",
       "4       Manual  "
      ]
     },
     "execution_count": 17,
     "metadata": {},
     "output_type": "execute_result"
    }
   ],
   "source": [
    "X[cat].head()"
   ]
  },
  {
   "cell_type": "code",
   "execution_count": 18,
   "id": "05a0a24c",
   "metadata": {},
   "outputs": [
    {
     "data": {
      "text/html": [
       "<div>\n",
       "<style scoped>\n",
       "    .dataframe tbody tr th:only-of-type {\n",
       "        vertical-align: middle;\n",
       "    }\n",
       "\n",
       "    .dataframe tbody tr th {\n",
       "        vertical-align: top;\n",
       "    }\n",
       "\n",
       "    .dataframe thead th {\n",
       "        text-align: right;\n",
       "    }\n",
       "</style>\n",
       "<table border=\"1\" class=\"dataframe\">\n",
       "  <thead>\n",
       "    <tr style=\"text-align: right;\">\n",
       "      <th></th>\n",
       "      <th>Car_Name</th>\n",
       "      <th>Present_Price</th>\n",
       "      <th>Kms_Driven</th>\n",
       "      <th>Fuel_Type</th>\n",
       "      <th>Seller_Type</th>\n",
       "      <th>Transmission</th>\n",
       "      <th>Owner</th>\n",
       "      <th>vehicle_age</th>\n",
       "    </tr>\n",
       "  </thead>\n",
       "  <tbody>\n",
       "    <tr>\n",
       "      <th>0</th>\n",
       "      <td>90.000</td>\n",
       "      <td>5.590</td>\n",
       "      <td>27000</td>\n",
       "      <td>2.000</td>\n",
       "      <td>0.000</td>\n",
       "      <td>1.000</td>\n",
       "      <td>0</td>\n",
       "      <td>7</td>\n",
       "    </tr>\n",
       "    <tr>\n",
       "      <th>1</th>\n",
       "      <td>93.000</td>\n",
       "      <td>9.540</td>\n",
       "      <td>43000</td>\n",
       "      <td>1.000</td>\n",
       "      <td>0.000</td>\n",
       "      <td>1.000</td>\n",
       "      <td>0</td>\n",
       "      <td>8</td>\n",
       "    </tr>\n",
       "    <tr>\n",
       "      <th>2</th>\n",
       "      <td>68.000</td>\n",
       "      <td>9.850</td>\n",
       "      <td>6900</td>\n",
       "      <td>2.000</td>\n",
       "      <td>0.000</td>\n",
       "      <td>1.000</td>\n",
       "      <td>0</td>\n",
       "      <td>4</td>\n",
       "    </tr>\n",
       "    <tr>\n",
       "      <th>3</th>\n",
       "      <td>96.000</td>\n",
       "      <td>4.150</td>\n",
       "      <td>5200</td>\n",
       "      <td>2.000</td>\n",
       "      <td>0.000</td>\n",
       "      <td>1.000</td>\n",
       "      <td>0</td>\n",
       "      <td>10</td>\n",
       "    </tr>\n",
       "    <tr>\n",
       "      <th>4</th>\n",
       "      <td>92.000</td>\n",
       "      <td>6.870</td>\n",
       "      <td>42450</td>\n",
       "      <td>1.000</td>\n",
       "      <td>0.000</td>\n",
       "      <td>1.000</td>\n",
       "      <td>0</td>\n",
       "      <td>7</td>\n",
       "    </tr>\n",
       "  </tbody>\n",
       "</table>\n",
       "</div>"
      ],
      "text/plain": [
       "   Car_Name  \\\n",
       "0    90.000   \n",
       "1    93.000   \n",
       "2    68.000   \n",
       "3    96.000   \n",
       "4    92.000   \n",
       "\n",
       "   Present_Price  \\\n",
       "0          5.590   \n",
       "1          9.540   \n",
       "2          9.850   \n",
       "3          4.150   \n",
       "4          6.870   \n",
       "\n",
       "   Kms_Driven  \\\n",
       "0       27000   \n",
       "1       43000   \n",
       "2        6900   \n",
       "3        5200   \n",
       "4       42450   \n",
       "\n",
       "   Fuel_Type  \\\n",
       "0      2.000   \n",
       "1      1.000   \n",
       "2      2.000   \n",
       "3      2.000   \n",
       "4      1.000   \n",
       "\n",
       "   Seller_Type  \\\n",
       "0        0.000   \n",
       "1        0.000   \n",
       "2        0.000   \n",
       "3        0.000   \n",
       "4        0.000   \n",
       "\n",
       "   Transmission  \\\n",
       "0         1.000   \n",
       "1         1.000   \n",
       "2         1.000   \n",
       "3         1.000   \n",
       "4         1.000   \n",
       "\n",
       "   Owner  \\\n",
       "0      0   \n",
       "1      0   \n",
       "2      0   \n",
       "3      0   \n",
       "4      0   \n",
       "\n",
       "   vehicle_age  \n",
       "0            7  \n",
       "1            8  \n",
       "2            4  \n",
       "3           10  \n",
       "4            7  "
      ]
     },
     "execution_count": 18,
     "metadata": {},
     "output_type": "execute_result"
    }
   ],
   "source": [
    "enc = OrdinalEncoder()\n",
    "X[cat] = enc.fit_transform(X[cat])\n",
    "X.head()"
   ]
  },
  {
   "cell_type": "code",
   "execution_count": 19,
   "id": "worth-compilation",
   "metadata": {},
   "outputs": [
    {
     "name": "stdout",
     "output_type": "stream",
     "text": [
      "Train features shape :  (240, 8)\n",
      "Train target shape   :  (240,)\n",
      "Test features shape  :  (61, 8)\n",
      "Test target shape    :  (61,)\n"
     ]
    }
   ],
   "source": [
    "from sklearn.model_selection import train_test_split\n",
    "X_train,X_test,y_train,y_test=train_test_split(X,y,test_size=0.2, random_state=5)\n",
    "\n",
    "print(\"Train features shape : \", X_train.shape)\n",
    "print(\"Train target shape   : \", y_train.shape)\n",
    "print(\"Test features shape  : \", X_test.shape)\n",
    "print(\"Test target shape    : \", y_test.shape)\n"
   ]
  },
  {
   "cell_type": "markdown",
   "id": "optional-filing",
   "metadata": {},
   "source": [
    "## Modeling for Decision Tree"
   ]
  },
  {
   "cell_type": "code",
   "execution_count": 20,
   "id": "julian-president",
   "metadata": {},
   "outputs": [],
   "source": [
    "from sklearn.tree import DecisionTreeClassifier, DecisionTreeRegressor"
   ]
  },
  {
   "cell_type": "code",
   "execution_count": 21,
   "id": "complex-familiar",
   "metadata": {},
   "outputs": [],
   "source": [
    "DT_model = DecisionTreeRegressor(random_state=101)"
   ]
  },
  {
   "cell_type": "code",
   "execution_count": 22,
   "id": "looking-barrier",
   "metadata": {},
   "outputs": [
    {
     "data": {
      "text/plain": [
       "DecisionTreeRegressor(random_state=101)"
      ]
     },
     "execution_count": 22,
     "metadata": {},
     "output_type": "execute_result"
    }
   ],
   "source": [
    "DT_model.fit(X_train, y_train)"
   ]
  },
  {
   "cell_type": "code",
   "execution_count": 23,
   "id": "legislative-office",
   "metadata": {},
   "outputs": [],
   "source": [
    "from sklearn.metrics import r2_score, mean_absolute_error, mean_squared_error"
   ]
  },
  {
   "cell_type": "code",
   "execution_count": 24,
   "id": "6cd2a5a1",
   "metadata": {},
   "outputs": [],
   "source": [
    "def train_val(model, X_train, y_train, X_test, y_test):\n",
    "    \n",
    "    y_pred = model.predict(X_test)\n",
    "    y_train_pred = model.predict(X_train)\n",
    "    \n",
    "    scores = {\"train\": {\"R2\" : r2_score(y_train, y_train_pred),\n",
    "    \"mae\" : mean_absolute_error(y_train, y_train_pred),\n",
    "    \"mse\" : mean_squared_error(y_train, y_train_pred),                          \n",
    "    \"rmse\" : np.sqrt(mean_squared_error(y_train, y_train_pred))},\n",
    "    \n",
    "    \"test\": {\"R2\" : r2_score(y_test, y_pred),\n",
    "    \"mae\" : mean_absolute_error(y_test, y_pred),\n",
    "    \"mse\" : mean_squared_error(y_test, y_pred),\n",
    "    \"rmse\" : np.sqrt(mean_squared_error(y_test, y_pred))}}\n",
    "    \n",
    "    return pd.DataFrame(scores)"
   ]
  },
  {
   "cell_type": "code",
   "execution_count": 25,
   "id": "oriented-acting",
   "metadata": {},
   "outputs": [
    {
     "data": {
      "text/html": [
       "<div>\n",
       "<style scoped>\n",
       "    .dataframe tbody tr th:only-of-type {\n",
       "        vertical-align: middle;\n",
       "    }\n",
       "\n",
       "    .dataframe tbody tr th {\n",
       "        vertical-align: top;\n",
       "    }\n",
       "\n",
       "    .dataframe thead th {\n",
       "        text-align: right;\n",
       "    }\n",
       "</style>\n",
       "<table border=\"1\" class=\"dataframe\">\n",
       "  <thead>\n",
       "    <tr style=\"text-align: right;\">\n",
       "      <th></th>\n",
       "      <th>train</th>\n",
       "      <th>test</th>\n",
       "    </tr>\n",
       "  </thead>\n",
       "  <tbody>\n",
       "    <tr>\n",
       "      <th>R2</th>\n",
       "      <td>1.000</td>\n",
       "      <td>0.952</td>\n",
       "    </tr>\n",
       "    <tr>\n",
       "      <th>mae</th>\n",
       "      <td>0.000</td>\n",
       "      <td>0.603</td>\n",
       "    </tr>\n",
       "    <tr>\n",
       "      <th>mse</th>\n",
       "      <td>0.000</td>\n",
       "      <td>1.283</td>\n",
       "    </tr>\n",
       "    <tr>\n",
       "      <th>rmse</th>\n",
       "      <td>0.000</td>\n",
       "      <td>1.133</td>\n",
       "    </tr>\n",
       "  </tbody>\n",
       "</table>\n",
       "</div>"
      ],
      "text/plain": [
       "      train  test\n",
       "R2    1.000 0.952\n",
       "mae   0.000 0.603\n",
       "mse   0.000 1.283\n",
       "rmse  0.000 1.133"
      ]
     },
     "execution_count": 25,
     "metadata": {},
     "output_type": "execute_result"
    }
   ],
   "source": [
    "train_val(DT_model, X_train, y_train, X_test, y_test)"
   ]
  },
  {
   "cell_type": "raw",
   "id": "8e47a453",
   "metadata": {},
   "source": [
    "        train\ttest\n",
    "R2\t    1.0\t    0.942589\n",
    "mae\t    0.0\t    0.704754\n",
    "mse\t    0.0\t    1.540966\n",
    "rmse\t0.0\t    1.241356"
   ]
  },
  {
   "cell_type": "code",
   "execution_count": 26,
   "id": "satellite-animation",
   "metadata": {},
   "outputs": [
    {
     "data": {
      "text/plain": [
       "test_r2                             0.891\n",
       "test_neg_mean_absolute_error       -0.787\n",
       "test_neg_mean_squared_error        -2.748\n",
       "test_neg_root_mean_squared_error   -1.457\n",
       "dtype: float64"
      ]
     },
     "execution_count": 26,
     "metadata": {},
     "output_type": "execute_result"
    }
   ],
   "source": [
    "from sklearn.model_selection import cross_validate, cross_val_score\n",
    "model = DecisionTreeRegressor(random_state=101)\n",
    "scores = cross_validate(model, X_train, y_train, scoring=['r2', \n",
    "            'neg_mean_absolute_error','neg_mean_squared_error','neg_root_mean_squared_error'], cv =10)\n",
    "df_scores = pd.DataFrame(scores)\n",
    "df_scores.mean()[2:]"
   ]
  },
  {
   "cell_type": "markdown",
   "id": "4a1fde7d",
   "metadata": {},
   "source": [
    "## Feature Importances"
   ]
  },
  {
   "cell_type": "code",
   "execution_count": 27,
   "id": "817e0e86",
   "metadata": {},
   "outputs": [
    {
     "data": {
      "text/plain": [
       "array([9.18365194e-03, 8.94444598e-01, 4.78756069e-03, 7.75109283e-04,\n",
       "       2.82862694e-04, 7.56380773e-04, 3.41291861e-05, 8.97357073e-02])"
      ]
     },
     "execution_count": 27,
     "metadata": {},
     "output_type": "execute_result"
    }
   ],
   "source": [
    "DT_model.feature_importances_"
   ]
  },
  {
   "cell_type": "code",
   "execution_count": 28,
   "id": "7ae595a7",
   "metadata": {},
   "outputs": [
    {
     "data": {
      "text/html": [
       "<div>\n",
       "<style scoped>\n",
       "    .dataframe tbody tr th:only-of-type {\n",
       "        vertical-align: middle;\n",
       "    }\n",
       "\n",
       "    .dataframe tbody tr th {\n",
       "        vertical-align: top;\n",
       "    }\n",
       "\n",
       "    .dataframe thead th {\n",
       "        text-align: right;\n",
       "    }\n",
       "</style>\n",
       "<table border=\"1\" class=\"dataframe\">\n",
       "  <thead>\n",
       "    <tr style=\"text-align: right;\">\n",
       "      <th></th>\n",
       "      <th>Feature Importance</th>\n",
       "    </tr>\n",
       "  </thead>\n",
       "  <tbody>\n",
       "    <tr>\n",
       "      <th>Owner</th>\n",
       "      <td>0.000</td>\n",
       "    </tr>\n",
       "    <tr>\n",
       "      <th>Seller_Type</th>\n",
       "      <td>0.000</td>\n",
       "    </tr>\n",
       "    <tr>\n",
       "      <th>Transmission</th>\n",
       "      <td>0.001</td>\n",
       "    </tr>\n",
       "    <tr>\n",
       "      <th>Fuel_Type</th>\n",
       "      <td>0.001</td>\n",
       "    </tr>\n",
       "    <tr>\n",
       "      <th>Kms_Driven</th>\n",
       "      <td>0.005</td>\n",
       "    </tr>\n",
       "    <tr>\n",
       "      <th>Car_Name</th>\n",
       "      <td>0.009</td>\n",
       "    </tr>\n",
       "    <tr>\n",
       "      <th>vehicle_age</th>\n",
       "      <td>0.090</td>\n",
       "    </tr>\n",
       "    <tr>\n",
       "      <th>Present_Price</th>\n",
       "      <td>0.894</td>\n",
       "    </tr>\n",
       "  </tbody>\n",
       "</table>\n",
       "</div>"
      ],
      "text/plain": [
       "               Feature Importance\n",
       "Owner                       0.000\n",
       "Seller_Type                 0.000\n",
       "Transmission                0.001\n",
       "Fuel_Type                   0.001\n",
       "Kms_Driven                  0.005\n",
       "Car_Name                    0.009\n",
       "vehicle_age                 0.090\n",
       "Present_Price               0.894"
      ]
     },
     "execution_count": 28,
     "metadata": {},
     "output_type": "execute_result"
    }
   ],
   "source": [
    "df_f_i = pd.DataFrame(index=X.columns, data = DT_model.feature_importances_, \n",
    "                      columns = [\"Feature Importance\"]).sort_values(\"Feature Importance\")\n",
    "df_f_i"
   ]
  },
  {
   "cell_type": "markdown",
   "id": "706d3526",
   "metadata": {},
   "source": [
    "Feature Importance\n",
    "Owner\t0.000000\n",
    "Seller_Type_Individual\t0.000104\n",
    "Fuel_Type_Diesel\t0.000616\n",
    "Fuel_Type_Petrol\t0.001590\n",
    "Transmission_Manual\t0.001806\n",
    "Kms_Driven\t0.017682\n",
    "vehicle_age\t0.081051\n",
    "Present_Price\t0.897153"
   ]
  },
  {
   "cell_type": "code",
   "execution_count": 29,
   "id": "ff833f42",
   "metadata": {},
   "outputs": [
    {
     "data": {
      "image/png": "[encoded data removed]",
      "text/plain": [
       "<Figure size 648x360 with 1 Axes>"
      ]
     },
     "metadata": {
      "needs_background": "light"
     },
     "output_type": "display_data"
    }
   ],
   "source": [
    "sns.barplot(x = df_f_i.index, y = 'Feature Importance', data = df_f_i)\n",
    "plt.xticks(rotation = 90)\n",
    "plt.tight_layout();"
   ]
  },
  {
   "cell_type": "markdown",
   "id": "2c81cd6d",
   "metadata": {},
   "source": [
    "## Modeling for Random Forest"
   ]
  },
  {
   "cell_type": "code",
   "execution_count": 30,
   "id": "3cc419ac",
   "metadata": {},
   "outputs": [],
   "source": [
    "from sklearn.ensemble import RandomForestRegressor"
   ]
  },
  {
   "cell_type": "code",
   "execution_count": 31,
   "id": "c0715e26",
   "metadata": {},
   "outputs": [
    {
     "data": {
      "text/html": [
       "<div>\n",
       "<style scoped>\n",
       "    .dataframe tbody tr th:only-of-type {\n",
       "        vertical-align: middle;\n",
       "    }\n",
       "\n",
       "    .dataframe tbody tr th {\n",
       "        vertical-align: top;\n",
       "    }\n",
       "\n",
       "    .dataframe thead th {\n",
       "        text-align: right;\n",
       "    }\n",
       "</style>\n",
       "<table border=\"1\" class=\"dataframe\">\n",
       "  <thead>\n",
       "    <tr style=\"text-align: right;\">\n",
       "      <th></th>\n",
       "      <th>train</th>\n",
       "      <th>test</th>\n",
       "    </tr>\n",
       "  </thead>\n",
       "  <tbody>\n",
       "    <tr>\n",
       "      <th>R2</th>\n",
       "      <td>0.986</td>\n",
       "      <td>0.973</td>\n",
       "    </tr>\n",
       "    <tr>\n",
       "      <th>mae</th>\n",
       "      <td>0.235</td>\n",
       "      <td>0.513</td>\n",
       "    </tr>\n",
       "    <tr>\n",
       "      <th>mse</th>\n",
       "      <td>0.348</td>\n",
       "      <td>0.725</td>\n",
       "    </tr>\n",
       "    <tr>\n",
       "      <th>rmse</th>\n",
       "      <td>0.590</td>\n",
       "      <td>0.851</td>\n",
       "    </tr>\n",
       "  </tbody>\n",
       "</table>\n",
       "</div>"
      ],
      "text/plain": [
       "      train  test\n",
       "R2    0.986 0.973\n",
       "mae   0.235 0.513\n",
       "mse   0.348 0.725\n",
       "rmse  0.590 0.851"
      ]
     },
     "execution_count": 31,
     "metadata": {},
     "output_type": "execute_result"
    }
   ],
   "source": [
    "rf_model = RandomForestRegressor(random_state=101)\n",
    "rf_model.fit(X_train,y_train)\n",
    "train_val(rf_model, X_train, y_train, X_test, y_test)"
   ]
  },
  {
   "cell_type": "code",
   "execution_count": 32,
   "id": "ff8c6b56",
   "metadata": {},
   "outputs": [
    {
     "data": {
      "text/plain": [
       "test_r2                             0.862\n",
       "test_neg_mean_absolute_error       -0.736\n",
       "test_neg_mean_squared_error        -3.393\n",
       "test_neg_root_mean_squared_error   -1.566\n",
       "dtype: float64"
      ]
     },
     "execution_count": 32,
     "metadata": {},
     "output_type": "execute_result"
    }
   ],
   "source": [
    "from sklearn.model_selection import cross_validate, cross_val_score\n",
    "model = RandomForestRegressor(random_state=101)\n",
    "scores = cross_validate(model, X_train, y_train, scoring=['r2', \n",
    "            'neg_mean_absolute_error','neg_mean_squared_error','neg_root_mean_squared_error'], cv =10)\n",
    "df_scores = pd.DataFrame(scores)\n",
    "df_scores.mean()[2:]"
   ]
  },
  {
   "cell_type": "markdown",
   "id": "1b80bbe2",
   "metadata": {},
   "source": [
    "## Feature Importances"
   ]
  },
  {
   "cell_type": "code",
   "execution_count": 33,
   "id": "ca57a0ac",
   "metadata": {},
   "outputs": [
    {
     "data": {
      "text/plain": [
       "array([2.34156850e-02, 8.66318271e-01, 1.73148579e-02, 2.14160300e-03,\n",
       "       2.08393371e-03, 2.67174857e-03, 6.16411815e-05, 8.59922594e-02])"
      ]
     },
     "execution_count": 33,
     "metadata": {},
     "output_type": "execute_result"
    }
   ],
   "source": [
    "rf_model.feature_importances_"
   ]
  },
  {
   "cell_type": "code",
   "execution_count": 34,
   "id": "7bdd9622",
   "metadata": {},
   "outputs": [
    {
     "data": {
      "text/html": [
       "<div>\n",
       "<style scoped>\n",
       "    .dataframe tbody tr th:only-of-type {\n",
       "        vertical-align: middle;\n",
       "    }\n",
       "\n",
       "    .dataframe tbody tr th {\n",
       "        vertical-align: top;\n",
       "    }\n",
       "\n",
       "    .dataframe thead th {\n",
       "        text-align: right;\n",
       "    }\n",
       "</style>\n",
       "<table border=\"1\" class=\"dataframe\">\n",
       "  <thead>\n",
       "    <tr style=\"text-align: right;\">\n",
       "      <th></th>\n",
       "      <th>Feature Importance</th>\n",
       "    </tr>\n",
       "  </thead>\n",
       "  <tbody>\n",
       "    <tr>\n",
       "      <th>Owner</th>\n",
       "      <td>0.000</td>\n",
       "    </tr>\n",
       "    <tr>\n",
       "      <th>Seller_Type</th>\n",
       "      <td>0.002</td>\n",
       "    </tr>\n",
       "    <tr>\n",
       "      <th>Fuel_Type</th>\n",
       "      <td>0.002</td>\n",
       "    </tr>\n",
       "    <tr>\n",
       "      <th>Transmission</th>\n",
       "      <td>0.003</td>\n",
       "    </tr>\n",
       "    <tr>\n",
       "      <th>Kms_Driven</th>\n",
       "      <td>0.017</td>\n",
       "    </tr>\n",
       "    <tr>\n",
       "      <th>Car_Name</th>\n",
       "      <td>0.023</td>\n",
       "    </tr>\n",
       "    <tr>\n",
       "      <th>vehicle_age</th>\n",
       "      <td>0.086</td>\n",
       "    </tr>\n",
       "    <tr>\n",
       "      <th>Present_Price</th>\n",
       "      <td>0.866</td>\n",
       "    </tr>\n",
       "  </tbody>\n",
       "</table>\n",
       "</div>"
      ],
      "text/plain": [
       "               Feature Importance\n",
       "Owner                       0.000\n",
       "Seller_Type                 0.002\n",
       "Fuel_Type                   0.002\n",
       "Transmission                0.003\n",
       "Kms_Driven                  0.017\n",
       "Car_Name                    0.023\n",
       "vehicle_age                 0.086\n",
       "Present_Price               0.866"
      ]
     },
     "execution_count": 34,
     "metadata": {},
     "output_type": "execute_result"
    }
   ],
   "source": [
    "df_f_i = pd.DataFrame(index=X.columns, data = rf_model.feature_importances_, \n",
    "                      columns = [\"Feature Importance\"]).sort_values(\"Feature Importance\")\n",
    "df_f_i"
   ]
  },
  {
   "cell_type": "code",
   "execution_count": 35,
   "id": "a8508b12",
   "metadata": {},
   "outputs": [
    {
     "data": {
      "image/png": "[encoded data removed]",
      "text/plain": [
       "<Figure size 648x360 with 1 Axes>"
      ]
     },
     "metadata": {
      "needs_background": "light"
     },
     "output_type": "display_data"
    }
   ],
   "source": [
    "sns.barplot(x = df_f_i.index, y = 'Feature Importance', data = df_f_i)\n",
    "plt.xticks(rotation = 90)\n",
    "plt.tight_layout();"
   ]
  },
  {
   "cell_type": "markdown",
   "id": "a4cacc69",
   "metadata": {},
   "source": [
    "## Visualizing trees"
   ]
  },
  {
   "cell_type": "code",
   "execution_count": 36,
   "id": "0dd54c24",
   "metadata": {},
   "outputs": [],
   "source": [
    "from sklearn.tree import plot_tree\n",
    "\n",
    "def report_model(model):\n",
    "    y_pred = model.predict(X_test)\n",
    "    y_train_pred = model.predict(X_train)\n",
    "    print('\\n')\n",
    "    print(train_val(model, X_train, y_train, X_test, y_test))\n",
    "    print('\\n')\n",
    "    plt.figure(figsize=(12,8),dpi=100)\n",
    "    plot_tree(model.estimators_[2],filled=True, feature_names=X.columns, fontsize=10);"
   ]
  },
  {
   "cell_type": "code",
   "execution_count": 37,
   "id": "25fedd92",
   "metadata": {},
   "outputs": [
    {
     "data": {
      "text/plain": [
       "RandomForestRegressor(max_depth=4, n_estimators=250, random_state=101)"
      ]
     },
     "execution_count": 37,
     "metadata": {},
     "output_type": "execute_result"
    }
   ],
   "source": [
    "pruned_tree = RandomForestRegressor(n_estimators=250, max_depth=4, random_state=101)\n",
    "pruned_tree.fit(X_train,y_train)"
   ]
  },
  {
   "cell_type": "code",
   "execution_count": 58,
   "id": "fb661001",
   "metadata": {},
   "outputs": [
    {
     "name": "stdout",
     "output_type": "stream",
     "text": [
      "\n",
      "\n",
      "      train  test\n",
      "R2    0.963 0.941\n",
      "mae   0.572 0.750\n",
      "mse   0.953 1.577\n",
      "rmse  0.976 1.256\n",
      "\n",
      "\n"
     ]
    },
    {
     "data": {
      "image/png": "[encoded data removed]",
      "text/plain": [
       "<Figure size 1200x800 with 1 Axes>"
      ]
     },
     "metadata": {
      "needs_background": "light"
     },
     "output_type": "display_data"
    }
   ],
   "source": [
    "report_model(pruned_tree)"
   ]
  },
  {
   "cell_type": "markdown",
   "id": "growing-landscape",
   "metadata": {},
   "source": [
    "## GridSearch"
   ]
  },
  {
   "cell_type": "code",
   "execution_count": 38,
   "id": "activated-korea",
   "metadata": {},
   "outputs": [],
   "source": [
    "from sklearn.model_selection import GridSearchCV"
   ]
  },
  {
   "cell_type": "code",
   "execution_count": 39,
   "id": "tutorial-gates",
   "metadata": {},
   "outputs": [],
   "source": [
    "model = RandomForestRegressor(random_state=101)"
   ]
  },
  {
   "cell_type": "code",
   "execution_count": 40,
   "id": "virgin-boards",
   "metadata": {},
   "outputs": [],
   "source": [
    "param_grid = {\"n_estimators\":[200, 500],\n",
    "              \"max_depth\": [None, 4, 5, 6, 7,8],\n",
    "              \"min_samples_leaf\": [1, 2, 3, 4],\n",
    "              \"min_samples_split\": [2, 3, 5, 6],\n",
    "              \"max_features\":['auto', X.shape[1]/3, 2, 4]}"
   ]
  },
  {
   "cell_type": "code",
   "execution_count": 41,
   "id": "basic-bailey",
   "metadata": {},
   "outputs": [],
   "source": [
    "\n",
    "grid_model = GridSearchCV(estimator=model,\n",
    "                          param_grid=param_grid,\n",
    "                          scoring='neg_root_mean_squared_error',\n",
    "                          cv=10,\n",
    "                          n_jobs = -1)"
   ]
  },
  {
   "cell_type": "code",
   "execution_count": null,
   "id": "geological-polls",
   "metadata": {},
   "outputs": [],
   "source": [
    "grid_model.fit(X_train,y_train)"
   ]
  },
  {
   "cell_type": "code",
   "execution_count": null,
   "id": "olive-input",
   "metadata": {},
   "outputs": [],
   "source": [
    "grid_model.best_estimator_"
   ]
  },
  {
   "cell_type": "code",
   "execution_count": null,
   "id": "designing-mauritius",
   "metadata": {},
   "outputs": [],
   "source": [
    "grid_model.best_params_"
   ]
  },
  {
   "cell_type": "code",
   "execution_count": null,
   "id": "loved-observer",
   "metadata": {},
   "outputs": [],
   "source": [
    "grid_score =pd.DataFrame(grid_model.cv_results_)\n",
    "grid_score"
   ]
  },
  {
   "cell_type": "code",
   "execution_count": 46,
   "id": "constant-suite",
   "metadata": {},
   "outputs": [
    {
     "data": {
      "text/plain": [
       "96"
      ]
     },
     "execution_count": 46,
     "metadata": {},
     "output_type": "execute_result"
    }
   ],
   "source": [
    "grid_model.best_index_"
   ]
  },
  {
   "cell_type": "code",
   "execution_count": 47,
   "id": "leading-small",
   "metadata": {},
   "outputs": [
    {
     "data": {
      "text/plain": [
       "-1.454127512097886"
      ]
     },
     "execution_count": 47,
     "metadata": {},
     "output_type": "execute_result"
    }
   ],
   "source": [
    "grid_model.best_score_"
   ]
  },
  {
   "cell_type": "code",
   "execution_count": 48,
   "id": "promotional-spyware",
   "metadata": {},
   "outputs": [
    {
     "data": {
      "text/html": [
       "<div>\n",
       "<style scoped>\n",
       "    .dataframe tbody tr th:only-of-type {\n",
       "        vertical-align: middle;\n",
       "    }\n",
       "\n",
       "    .dataframe tbody tr th {\n",
       "        vertical-align: top;\n",
       "    }\n",
       "\n",
       "    .dataframe thead th {\n",
       "        text-align: right;\n",
       "    }\n",
       "</style>\n",
       "<table border=\"1\" class=\"dataframe\">\n",
       "  <thead>\n",
       "    <tr style=\"text-align: right;\">\n",
       "      <th></th>\n",
       "      <th>train</th>\n",
       "      <th>test</th>\n",
       "    </tr>\n",
       "  </thead>\n",
       "  <tbody>\n",
       "    <tr>\n",
       "      <th>R2</th>\n",
       "      <td>0.983</td>\n",
       "      <td>0.959</td>\n",
       "    </tr>\n",
       "    <tr>\n",
       "      <th>mae</th>\n",
       "      <td>0.252</td>\n",
       "      <td>0.535</td>\n",
       "    </tr>\n",
       "    <tr>\n",
       "      <th>mse</th>\n",
       "      <td>0.430</td>\n",
       "      <td>1.097</td>\n",
       "    </tr>\n",
       "    <tr>\n",
       "      <th>rmse</th>\n",
       "      <td>0.656</td>\n",
       "      <td>1.047</td>\n",
       "    </tr>\n",
       "  </tbody>\n",
       "</table>\n",
       "</div>"
      ],
      "text/plain": [
       "      train  test\n",
       "R2    0.983 0.959\n",
       "mae   0.252 0.535\n",
       "mse   0.430 1.097\n",
       "rmse  0.656 1.047"
      ]
     },
     "execution_count": 48,
     "metadata": {},
     "output_type": "execute_result"
    }
   ],
   "source": [
    "train_val(grid_model, X_train, y_train, X_test, y_test)"
   ]
  },
  {
   "cell_type": "raw",
   "id": "honest-projector",
   "metadata": {},
   "source": [
    "       train\ttest\n",
    "   R2\t0.986\t0.973\n",
    "   mae\t0.235\t0.513\n",
    "   mse\t0.348\t0.725\n",
    "   rmse\t0.590\t0.851"
   ]
  },
  {
   "cell_type": "code",
   "execution_count": 49,
   "id": "bizarre-symposium",
   "metadata": {},
   "outputs": [
    {
     "data": {
      "text/plain": [
       "test_r2                             0.894\n",
       "test_neg_mean_absolute_error       -0.719\n",
       "test_neg_mean_squared_error        -3.129\n",
       "test_neg_root_mean_squared_error   -1.454\n",
       "dtype: float64"
      ]
     },
     "execution_count": 49,
     "metadata": {},
     "output_type": "execute_result"
    }
   ],
   "source": [
    "from sklearn.model_selection import cross_validate, cross_val_score\n",
    "\n",
    "model = RandomForestRegressor(random_state=101, max_depth = None,\n",
    "             max_features= 4,\n",
    "             min_samples_leaf = 1,\n",
    "             min_samples_split= 2,\n",
    "             n_estimators= 200)\n",
    "scores = cross_validate(model, X_train, y_train, scoring=['r2', \n",
    "            'neg_mean_absolute_error','neg_mean_squared_error','neg_root_mean_squared_error'], cv = 10)\n",
    "df_scores = pd.DataFrame(scores)\n",
    "df_scores.mean()[2:]"
   ]
  },
  {
   "cell_type": "code",
   "execution_count": 50,
   "id": "employed-world",
   "metadata": {},
   "outputs": [],
   "source": [
    "y_pred = grid_model.predict(X_test)\n",
    "my_dict = { 'Actual': y_test, 'Pred': y_pred, 'Residual': y_test-y_pred }\n",
    "compare = pd.DataFrame(my_dict)"
   ]
  },
  {
   "cell_type": "code",
   "execution_count": 51,
   "id": "innovative-separate",
   "metadata": {},
   "outputs": [
    {
     "data": {
      "text/html": [
       "<div>\n",
       "<style scoped>\n",
       "    .dataframe tbody tr th:only-of-type {\n",
       "        vertical-align: middle;\n",
       "    }\n",
       "\n",
       "    .dataframe tbody tr th {\n",
       "        vertical-align: top;\n",
       "    }\n",
       "\n",
       "    .dataframe thead th {\n",
       "        text-align: right;\n",
       "    }\n",
       "</style>\n",
       "<table border=\"1\" class=\"dataframe\">\n",
       "  <thead>\n",
       "    <tr style=\"text-align: right;\">\n",
       "      <th></th>\n",
       "      <th>Actual</th>\n",
       "      <th>Pred</th>\n",
       "      <th>Residual</th>\n",
       "    </tr>\n",
       "  </thead>\n",
       "  <tbody>\n",
       "    <tr>\n",
       "      <th>132</th>\n",
       "      <td>0.750</td>\n",
       "      <td>0.808</td>\n",
       "      <td>-0.058</td>\n",
       "    </tr>\n",
       "    <tr>\n",
       "      <th>138</th>\n",
       "      <td>0.600</td>\n",
       "      <td>0.606</td>\n",
       "      <td>-0.006</td>\n",
       "    </tr>\n",
       "    <tr>\n",
       "      <th>193</th>\n",
       "      <td>0.200</td>\n",
       "      <td>0.308</td>\n",
       "      <td>-0.108</td>\n",
       "    </tr>\n",
       "    <tr>\n",
       "      <th>106</th>\n",
       "      <td>1.350</td>\n",
       "      <td>1.673</td>\n",
       "      <td>-0.323</td>\n",
       "    </tr>\n",
       "    <tr>\n",
       "      <th>67</th>\n",
       "      <td>9.250</td>\n",
       "      <td>10.684</td>\n",
       "      <td>-1.434</td>\n",
       "    </tr>\n",
       "    <tr>\n",
       "      <th>93</th>\n",
       "      <td>23.000</td>\n",
       "      <td>21.900</td>\n",
       "      <td>1.100</td>\n",
       "    </tr>\n",
       "    <tr>\n",
       "      <th>115</th>\n",
       "      <td>1.110</td>\n",
       "      <td>1.144</td>\n",
       "      <td>-0.034</td>\n",
       "    </tr>\n",
       "    <tr>\n",
       "      <th>171</th>\n",
       "      <td>0.400</td>\n",
       "      <td>0.447</td>\n",
       "      <td>-0.047</td>\n",
       "    </tr>\n",
       "    <tr>\n",
       "      <th>176</th>\n",
       "      <td>0.350</td>\n",
       "      <td>0.473</td>\n",
       "      <td>-0.123</td>\n",
       "    </tr>\n",
       "    <tr>\n",
       "      <th>117</th>\n",
       "      <td>1.100</td>\n",
       "      <td>1.333</td>\n",
       "      <td>-0.233</td>\n",
       "    </tr>\n",
       "    <tr>\n",
       "      <th>161</th>\n",
       "      <td>0.450</td>\n",
       "      <td>0.541</td>\n",
       "      <td>-0.091</td>\n",
       "    </tr>\n",
       "    <tr>\n",
       "      <th>62</th>\n",
       "      <td>18.750</td>\n",
       "      <td>19.851</td>\n",
       "      <td>-1.101</td>\n",
       "    </tr>\n",
       "    <tr>\n",
       "      <th>24</th>\n",
       "      <td>2.900</td>\n",
       "      <td>3.079</td>\n",
       "      <td>-0.179</td>\n",
       "    </tr>\n",
       "    <tr>\n",
       "      <th>90</th>\n",
       "      <td>3.800</td>\n",
       "      <td>4.845</td>\n",
       "      <td>-1.045</td>\n",
       "    </tr>\n",
       "    <tr>\n",
       "      <th>99</th>\n",
       "      <td>9.650</td>\n",
       "      <td>10.741</td>\n",
       "      <td>-1.091</td>\n",
       "    </tr>\n",
       "    <tr>\n",
       "      <th>21</th>\n",
       "      <td>4.900</td>\n",
       "      <td>5.751</td>\n",
       "      <td>-0.851</td>\n",
       "    </tr>\n",
       "    <tr>\n",
       "      <th>61</th>\n",
       "      <td>4.500</td>\n",
       "      <td>5.263</td>\n",
       "      <td>-0.763</td>\n",
       "    </tr>\n",
       "    <tr>\n",
       "      <th>98</th>\n",
       "      <td>7.050</td>\n",
       "      <td>7.235</td>\n",
       "      <td>-0.185</td>\n",
       "    </tr>\n",
       "    <tr>\n",
       "      <th>265</th>\n",
       "      <td>6.500</td>\n",
       "      <td>7.326</td>\n",
       "      <td>-0.826</td>\n",
       "    </tr>\n",
       "    <tr>\n",
       "      <th>66</th>\n",
       "      <td>19.750</td>\n",
       "      <td>14.397</td>\n",
       "      <td>5.353</td>\n",
       "    </tr>\n",
       "  </tbody>\n",
       "</table>\n",
       "</div>"
      ],
      "text/plain": [
       "     Actual   Pred  Residual\n",
       "132   0.750  0.808    -0.058\n",
       "138   0.600  0.606    -0.006\n",
       "193   0.200  0.308    -0.108\n",
       "106   1.350  1.673    -0.323\n",
       "67    9.250 10.684    -1.434\n",
       "93   23.000 21.900     1.100\n",
       "115   1.110  1.144    -0.034\n",
       "171   0.400  0.447    -0.047\n",
       "176   0.350  0.473    -0.123\n",
       "117   1.100  1.333    -0.233\n",
       "161   0.450  0.541    -0.091\n",
       "62   18.750 19.851    -1.101\n",
       "24    2.900  3.079    -0.179\n",
       "90    3.800  4.845    -1.045\n",
       "99    9.650 10.741    -1.091\n",
       "21    4.900  5.751    -0.851\n",
       "61    4.500  5.263    -0.763\n",
       "98    7.050  7.235    -0.185\n",
       "265   6.500  7.326    -0.826\n",
       "66   19.750 14.397     5.353"
      ]
     },
     "execution_count": 51,
     "metadata": {},
     "output_type": "execute_result"
    }
   ],
   "source": [
    "comp_sample = compare.sample(20)\n",
    "comp_sample"
   ]
  },
  {
   "cell_type": "code",
   "execution_count": 52,
   "id": "significant-frontier",
   "metadata": {},
   "outputs": [
    {
     "data": {
      "image/png": "[encoded data removed]",
      "text/plain": [
       "<Figure size 1080x648 with 1 Axes>"
      ]
     },
     "metadata": {
      "needs_background": "light"
     },
     "output_type": "display_data"
    }
   ],
   "source": [
    "comp_sample.plot(kind='bar',figsize=(15,9))\n",
    "plt.show()"
   ]
  },
  {
   "cell_type": "code",
   "execution_count": null,
   "id": "racial-butter",
   "metadata": {},
   "outputs": [],
   "source": []
  }
 ],
 "metadata": {
  "kernelspec": {
   "display_name": "Python 3 (ipykernel)",
   "language": "python",
   "name": "python3"
  },
  "language_info": {
   "codemirror_mode": {
    "name": "ipython",
    "version": 3
   },
   "file_extension": ".py",
   "mimetype": "text/x-python",
   "name": "python",
   "nbconvert_exporter": "python",
   "pygments_lexer": "ipython3",
   "version": "3.9.7"
  }
 },
 "nbformat": 4,
 "nbformat_minor": 5
}
